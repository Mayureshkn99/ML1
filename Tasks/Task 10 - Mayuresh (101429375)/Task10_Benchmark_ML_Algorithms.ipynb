{
 "cells": [
  {
   "cell_type": "markdown",
   "metadata": {},
   "source": [
    "# Task 10 : Benchmark Top ML Algorithms\n",
    "\n",
    "This task tests your ability to use different ML algorithms when solving a specific problem.\n"
   ]
  },
  {
   "cell_type": "markdown",
   "metadata": {},
   "source": [
    "### Dataset\n",
    "Predict Loan Eligibility for Dream Housing Finance company\n",
    "\n",
    "Dream Housing Finance company deals in all kinds of home loans. They have presence across all urban, semi urban and rural areas. Customer first applies for home loan and after that company validates the customer eligibility for loan.\n",
    "\n",
    "Company wants to automate the loan eligibility process (real time) based on customer detail provided while filling online application form. These details are Gender, Marital Status, Education, Number of Dependents, Income, Loan Amount, Credit History and others. To automate this process, they have provided a dataset to identify the customers segments that are eligible for loan amount so that they can specifically target these customers.\n",
    "\n",
    "Train: https://raw.githubusercontent.com/subashgandyer/datasets/main/loan_train.csv\n",
    "\n",
    "Test: https://raw.githubusercontent.com/subashgandyer/datasets/main/loan_test.csv"
   ]
  },
  {
   "cell_type": "markdown",
   "metadata": {},
   "source": [
    "## Task Requirements\n",
    "### You can have the following Classification models built using different ML algorithms\n",
    "- Decision Tree\n",
    "- KNN\n",
    "- Logistic Regression\n",
    "- SVM\n",
    "- Random Forest\n",
    "- Any other algorithm of your choice"
   ]
  },
  {
   "cell_type": "markdown",
   "metadata": {},
   "source": [
    "### Use GridSearchCV for finding the best model with the best hyperparameters"
   ]
  },
  {
   "cell_type": "markdown",
   "metadata": {},
   "source": [
    "- ### Build models\n",
    "- ### Create Parameter Grid\n",
    "- ### Run GridSearchCV\n",
    "- ### Choose the best model with the best hyperparameter\n",
    "- ### Give the best accuracy\n",
    "- ### Also, benchmark the best accuracy that you could get for every classification algorithm asked above"
   ]
  },
  {
   "cell_type": "markdown",
   "metadata": {},
   "source": [
    "#### Your final output will be something like this:\n",
    "- Best algorithm accuracy\n",
    "- Best hyperparameter accuracy for every algorithm\n",
    "\n",
    "**Table 1 (Algorithm wise best model with best hyperparameter)**\n",
    "\n",
    "Algorithm   |     Accuracy   |   Hyperparameters\n",
    "- DT\n",
    "- KNN\n",
    "- LR\n",
    "- SVM\n",
    "- RF\n",
    "- anyother\n",
    "\n",
    "**Table 2 (Best overall)**\n",
    "\n",
    "Algorithm    |   Accuracy    |   Hyperparameters\n",
    "\n"
   ]
  },
  {
   "cell_type": "markdown",
   "metadata": {},
   "source": [
    "### Submission\n",
    "- Submit Notebook containing all saved ran code with outputs\n",
    "- Document with the above two tables"
   ]
  },
  {
   "cell_type": "code",
   "execution_count": 1,
   "metadata": {},
   "outputs": [],
   "source": [
    "import pandas as pd"
   ]
  },
  {
   "cell_type": "code",
   "execution_count": 16,
   "metadata": {},
   "outputs": [
    {
     "data": {
      "text/html": [
       "<div>\n",
       "<style scoped>\n",
       "    .dataframe tbody tr th:only-of-type {\n",
       "        vertical-align: middle;\n",
       "    }\n",
       "\n",
       "    .dataframe tbody tr th {\n",
       "        vertical-align: top;\n",
       "    }\n",
       "\n",
       "    .dataframe thead th {\n",
       "        text-align: right;\n",
       "    }\n",
       "</style>\n",
       "<table border=\"1\" class=\"dataframe\">\n",
       "  <thead>\n",
       "    <tr style=\"text-align: right;\">\n",
       "      <th></th>\n",
       "      <th>Loan_ID</th>\n",
       "      <th>Gender</th>\n",
       "      <th>Married</th>\n",
       "      <th>Dependents</th>\n",
       "      <th>Education</th>\n",
       "      <th>Self_Employed</th>\n",
       "      <th>ApplicantIncome</th>\n",
       "      <th>CoapplicantIncome</th>\n",
       "      <th>LoanAmount</th>\n",
       "      <th>Loan_Amount_Term</th>\n",
       "      <th>Credit_History</th>\n",
       "      <th>Property_Area</th>\n",
       "    </tr>\n",
       "  </thead>\n",
       "  <tbody>\n",
       "    <tr>\n",
       "      <th>0</th>\n",
       "      <td>LP001015</td>\n",
       "      <td>Male</td>\n",
       "      <td>Yes</td>\n",
       "      <td>0</td>\n",
       "      <td>Graduate</td>\n",
       "      <td>No</td>\n",
       "      <td>5720</td>\n",
       "      <td>0</td>\n",
       "      <td>110.0</td>\n",
       "      <td>360.0</td>\n",
       "      <td>1.0</td>\n",
       "      <td>Urban</td>\n",
       "    </tr>\n",
       "    <tr>\n",
       "      <th>1</th>\n",
       "      <td>LP001022</td>\n",
       "      <td>Male</td>\n",
       "      <td>Yes</td>\n",
       "      <td>1</td>\n",
       "      <td>Graduate</td>\n",
       "      <td>No</td>\n",
       "      <td>3076</td>\n",
       "      <td>1500</td>\n",
       "      <td>126.0</td>\n",
       "      <td>360.0</td>\n",
       "      <td>1.0</td>\n",
       "      <td>Urban</td>\n",
       "    </tr>\n",
       "    <tr>\n",
       "      <th>2</th>\n",
       "      <td>LP001031</td>\n",
       "      <td>Male</td>\n",
       "      <td>Yes</td>\n",
       "      <td>2</td>\n",
       "      <td>Graduate</td>\n",
       "      <td>No</td>\n",
       "      <td>5000</td>\n",
       "      <td>1800</td>\n",
       "      <td>208.0</td>\n",
       "      <td>360.0</td>\n",
       "      <td>1.0</td>\n",
       "      <td>Urban</td>\n",
       "    </tr>\n",
       "    <tr>\n",
       "      <th>3</th>\n",
       "      <td>LP001035</td>\n",
       "      <td>Male</td>\n",
       "      <td>Yes</td>\n",
       "      <td>2</td>\n",
       "      <td>Graduate</td>\n",
       "      <td>No</td>\n",
       "      <td>2340</td>\n",
       "      <td>2546</td>\n",
       "      <td>100.0</td>\n",
       "      <td>360.0</td>\n",
       "      <td>NaN</td>\n",
       "      <td>Urban</td>\n",
       "    </tr>\n",
       "    <tr>\n",
       "      <th>4</th>\n",
       "      <td>LP001051</td>\n",
       "      <td>Male</td>\n",
       "      <td>No</td>\n",
       "      <td>0</td>\n",
       "      <td>Not Graduate</td>\n",
       "      <td>No</td>\n",
       "      <td>3276</td>\n",
       "      <td>0</td>\n",
       "      <td>78.0</td>\n",
       "      <td>360.0</td>\n",
       "      <td>1.0</td>\n",
       "      <td>Urban</td>\n",
       "    </tr>\n",
       "  </tbody>\n",
       "</table>\n",
       "</div>"
      ],
      "text/plain": [
       "    Loan_ID Gender Married Dependents     Education Self_Employed  \\\n",
       "0  LP001015   Male     Yes          0      Graduate            No   \n",
       "1  LP001022   Male     Yes          1      Graduate            No   \n",
       "2  LP001031   Male     Yes          2      Graduate            No   \n",
       "3  LP001035   Male     Yes          2      Graduate            No   \n",
       "4  LP001051   Male      No          0  Not Graduate            No   \n",
       "\n",
       "   ApplicantIncome  CoapplicantIncome  LoanAmount  Loan_Amount_Term  \\\n",
       "0             5720                  0       110.0             360.0   \n",
       "1             3076               1500       126.0             360.0   \n",
       "2             5000               1800       208.0             360.0   \n",
       "3             2340               2546       100.0             360.0   \n",
       "4             3276                  0        78.0             360.0   \n",
       "\n",
       "   Credit_History Property_Area  \n",
       "0             1.0         Urban  \n",
       "1             1.0         Urban  \n",
       "2             1.0         Urban  \n",
       "3             NaN         Urban  \n",
       "4             1.0         Urban  "
      ]
     },
     "execution_count": 16,
     "metadata": {},
     "output_type": "execute_result"
    }
   ],
   "source": [
    "#import data\n",
    "data = pd.read_csv(\"https://raw.githubusercontent.com/subashgandyer/datasets/main/loan_test.csv\")\n",
    "data.head(5)"
   ]
  },
  {
   "cell_type": "code",
   "execution_count": 17,
   "metadata": {},
   "outputs": [
    {
     "name": "stdout",
     "output_type": "stream",
     "text": [
      "<class 'pandas.core.frame.DataFrame'>\n",
      "RangeIndex: 367 entries, 0 to 366\n",
      "Data columns (total 12 columns):\n",
      " #   Column             Non-Null Count  Dtype  \n",
      "---  ------             --------------  -----  \n",
      " 0   Loan_ID            367 non-null    object \n",
      " 1   Gender             356 non-null    object \n",
      " 2   Married            367 non-null    object \n",
      " 3   Dependents         357 non-null    object \n",
      " 4   Education          367 non-null    object \n",
      " 5   Self_Employed      344 non-null    object \n",
      " 6   ApplicantIncome    367 non-null    int64  \n",
      " 7   CoapplicantIncome  367 non-null    int64  \n",
      " 8   LoanAmount         362 non-null    float64\n",
      " 9   Loan_Amount_Term   361 non-null    float64\n",
      " 10  Credit_History     338 non-null    float64\n",
      " 11  Property_Area      367 non-null    object \n",
      "dtypes: float64(3), int64(2), object(7)\n",
      "memory usage: 34.5+ KB\n"
     ]
    }
   ],
   "source": [
    "## Showing data type\n",
    "data.info()"
   ]
  },
  {
   "cell_type": "code",
   "execution_count": 18,
   "metadata": {},
   "outputs": [
    {
     "name": "stdout",
     "output_type": "stream",
     "text": [
      "Gender: ['Male' 'Female' nan]\n",
      "Married: ['Yes' 'No']\n",
      "Dependents: ['0' '1' '2' '3+' nan]\n",
      "Education: ['Graduate' 'Not Graduate']\n",
      "Self_Employed: ['No' 'Yes' nan]\n",
      "ApplicantIncome: [ 5720  3076  5000  2340  3276  2165  2226  3881 13633  2400  3091  2185\n",
      "  4166 12173  4666  5667  4583  3786  9226  1300  1888  2083  3909  3765\n",
      "  5400     0  4363  7500  3772  2942  2478  6250  3268  2783  2740  3150\n",
      "  7350  2267  5833  3643  5629  3644  1750  6500  3666  4260  4163  2356\n",
      "  6792  8000  2419  3500  4116  5293  2750  4402  3613  2779  4720  2415\n",
      "  7016  4968  2101  4490  2917  4700  3445  7666  2458  3250  4463  4083\n",
      "  3900  4750  3583  3189  6356  3413  7950  3829 72529  4136  8449  4456\n",
      "  4635  3571  3066  3235  5058  3188 13518  4364  4766  4609  6260  3333\n",
      "  9719  6835  4452  2262  3901  2687  2243  3417  1596  4513  4500  4523\n",
      "  4742  4082  2922  4167  4243  1516  1762   724  3125  2333  3350  2500\n",
      " 12500  4667  3073  3321  3391  3343  3620  4000  4258  2014  4727  3089\n",
      "  6794 32000 10890 12941  8703  5900  3071  2463  4855  1599  4246  4333\n",
      "  5823  7895  4150  2964  5583  2708  3180  2268  1141  3042  3564  3958\n",
      "  4483  5225  3017  2431  4912  2918  5128 15312  4334  4358 10166  4521\n",
      "  9167 13083  7874  3785  2654 10000  4796  2000  2540  1900  8706  2855\n",
      "  3016  3159  1937  2613  4960  3074  4213  2038  2362  5333  5384  5708\n",
      "  3754  2914  2747  7830  3507  3747  2166  2896  5062  5184  2545  2553\n",
      "  3436  2412  5180 14911  2860  1173  7600  2157  2231  2274  6166  2513\n",
      "  3844  3887  3510  2539  2107  3186  3943  2925  3242  3863  4028  4010\n",
      "  3719  2858  3833  3007  1850  2792  2982 18840  2995  3579  3835  3854\n",
      "  3508  1635 24797  2773  5769  3634 29167  5530  9000  8750  1972  4983\n",
      "  8333  3667  3166  3271  2241  1792  2666  6478  3808  3729  4120  6300\n",
      " 14987   570  2600  2733  3859  6825  3708  5314  2366  2066  3767  7859\n",
      "  4283  1700  4768  3083  2667  1647  3400 16000  2875  5041  6958  5509\n",
      "  9699  3621  4709  3015  2292  2360  2623  3972  3522  6858  8334  2868\n",
      "  3418  8667  2283  5817  5119  5316  7603  3791  3132  8550  2269  4009\n",
      "  4158  9200]\n",
      "CoapplicantIncome: [    0  1500  1800  2546  3422  2400  1516  2916   333  7916  3470  1620\n",
      "  4380 24000  1250  3750   833  2382   820  1683  2708  1541  4029  2792\n",
      "  1963   818  2024  2600  3900  1475  1902  3338   250  1707  3077  1000\n",
      "  3539  3664  1721   292  3583  5105  1775  2094  3435  2367  4053  1103\n",
      "  8000  1917  2015  2286  2500  1646  2333  4200  3250  2233  1287  1760\n",
      "  1350  3396  4754  4123  2900  2666  3510  3803  1560  6414  2088  1270\n",
      "  1517  2925  2999   528   717  4309  1456  2360  2474  4246  2291  2529\n",
      "  4256  2370  2017  3167  2935  2845  1820  4614  3333  2632  2945  3917\n",
      "   750  1184  3967  2912  1998  2690  1600   700  1442   542  1300  2374\n",
      "  1152  2417  1083  4027  3719  2130  2458  2183  3148  2139  2166  2168\n",
      "  1768  3809  2755 14507  2988  1594  1788  2774  5211 13983  1110   828\n",
      "  1704  3145   437  1025  1585  4288  3725  4583  2619  1550   738  1120\n",
      "  3308  1400  3575  2444  3916   440  1497   910  2057 11666  2730  4347\n",
      "  4000  2000  2833  2565  2125  4700  5272  2108   879  2738  1542  1762\n",
      "  5000  2416   618  1411  1658  2717  1951  1558  3355  4831  4275  1966\n",
      "  1380   296 15000  3769   187  1213  1936  2667  4255  2167  1777   709\n",
      "  1993  2393]\n",
      "LoanAmount: [110. 126. 208. 100.  78. 152.  59. 147. 280. 123.  90. 162.  40. 166.\n",
      " 124. 131. 200. 300.  48.  28. 101. 125. 290. 148. 140. 275.  57.  75.\n",
      " 192. 158. 176. 185. 116. 138.  84. 108. 187. 120. 160.  30.  92. 130.\n",
      " 134. 189. 135. 188.  95.  65. 139. 232. 144. 155. 186.  50.  nan 163.\n",
      " 360. 149. 257. 102.  77. 390. 256.  61. 107. 119. 165.  93. 122. 157.\n",
      " 180.  80. 104. 213. 146.  71. 225.  70. 132. 105.  83. 103. 150. 550.\n",
      " 260. 199. 113. 117.  72. 214. 133. 143. 209. 170.  94.  79. 159. 173.\n",
      " 235. 336.  96. 128. 412. 114. 115.  88.  55. 118. 212.  74.  66.  64.\n",
      " 142. 151.  81. 171. 234. 184. 112.  49.  99. 240. 460. 297. 106. 141.\n",
      " 145. 177.  68. 183. 121. 153.  67. 181.  35.  46.  87. 137. 254. 109.\n",
      " 197.  85.  60.  76.  98.]\n",
      "Loan_Amount_Term: [360. 240. 180.  nan  60. 480.  84.  12. 300. 350.  36. 120.   6.]\n",
      "Credit_History: [ 1. nan  0.]\n",
      "Property_Area: ['Urban' 'Semiurban' 'Rural']\n"
     ]
    }
   ],
   "source": [
    "# Checking the possible values for each feature\n",
    "for column in data.columns[1:]:\n",
    "    print(f\"{column}: {data[column].unique()}\")"
   ]
  },
  {
   "cell_type": "code",
   "execution_count": 8,
   "metadata": {},
   "outputs": [
    {
     "data": {
      "text/plain": [
       "Loan_ID               0\n",
       "Gender               13\n",
       "Married               3\n",
       "Dependents           15\n",
       "Education             0\n",
       "Self_Employed        32\n",
       "ApplicantIncome       0\n",
       "CoapplicantIncome     0\n",
       "LoanAmount           22\n",
       "Loan_Amount_Term     14\n",
       "Credit_History       50\n",
       "Property_Area         0\n",
       "Loan_Status           0\n",
       "dtype: int64"
      ]
     },
     "execution_count": 8,
     "metadata": {},
     "output_type": "execute_result"
    }
   ],
   "source": [
    "## Checking null values \n",
    "data.isna().sum()"
   ]
  },
  {
   "cell_type": "code",
   "execution_count": null,
   "metadata": {},
   "outputs": [],
   "source": []
  }
 ],
 "metadata": {
  "kernelspec": {
   "display_name": "ml1-venv",
   "language": "python",
   "name": "python3"
  },
  "language_info": {
   "codemirror_mode": {
    "name": "ipython",
    "version": 3
   },
   "file_extension": ".py",
   "mimetype": "text/x-python",
   "name": "python",
   "nbconvert_exporter": "python",
   "pygments_lexer": "ipython3",
   "version": "3.11.1"
  },
  "vscode": {
   "interpreter": {
    "hash": "2ab04ef9f3ed96eb7f9e19d04b0a7d73aeac73882eb3637be5aab00647ed79ff"
   }
  }
 },
 "nbformat": 4,
 "nbformat_minor": 4
}
